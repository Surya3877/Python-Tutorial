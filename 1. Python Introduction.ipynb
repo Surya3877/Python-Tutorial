{
 "cells": [
  {
   "cell_type": "markdown",
   "id": "ef19c4a3-8cdc-4151-941b-e4bc0a37184d",
   "metadata": {},
   "source": [
    "# **Python Introduction**"
   ]
  },
  {
   "cell_type": "markdown",
   "id": "73dc082f-5613-457d-8d52-da2f163d85fa",
   "metadata": {},
   "source": [
    "## What is Python?\n",
    "\n",
    "Python is a popular programming language. It was created by Guido Van Rossum, and released in 1991.\n",
    "\n",
    "it is used for:\n",
    "\n",
    "- web development (serve-side),\n",
    "- software development,\n",
    "- mathematics,\n",
    "- system scripting.\n",
    "\n",
    "## What can Pyrhon do?\n",
    "\n",
    "- Python works on different platforms (Windows, Mac, Linux, Raspberry Pi, ect).\n",
    "- Python has a simple syntax similar to the English language.\n",
    "- Python has syntax that allows developers to write programs with fewer lines than some other programming language.\n",
    "- Python runs on an interpreter system, meaning that code can be executed as soon as it is written. This means that protyping can be very quick.\n",
    "- Python can be treated in a procedural way, an onject-oriented way or a sunction way.\n",
    "\n",
    "## Good to Know\n",
    "\n",
    "- The most recent major version of Python is Python 3, which we shall be using in this tutorial. However, Python 2, although not being updated with anything other than security updates, is still quite popular.\n",
    "- In this tutorial Python will be writeen in a text editor. It is possible to write Python in an Integrated Development Environment, such as Thonny, Pycharm, Netbeans or Eclipse which are particularly useful when managing larger collections of Python files.\n",
    "\n",
    "## Python Syntax compared to other programming languages\n",
    "\n",
    "- Python was designed for readability, and has some similarities to the English language with influence from mathematics.\n",
    "- Python uses new lines to complete a command, as opposed to other programming languages which often use semicolons or parenthese.\n",
    "- Python relies on indentation, using whitespace, to define scope; such as the scope of loops, functions and classes. Other programming languages often use curly-brackets for this purpose."
   ]
  },
  {
   "cell_type": "markdown",
   "id": "eec01bcc-37c6-43ca-af64-a4aae34736a9",
   "metadata": {},
   "source": [
    "## **Example**"
   ]
  },
  {
   "cell_type": "code",
   "execution_count": 1,
   "id": "3fe1e5c1-018c-444f-9d14-99d0c38864ed",
   "metadata": {},
   "outputs": [
    {
     "name": "stdout",
     "output_type": "stream",
     "text": [
      "Hello, World!\n"
     ]
    }
   ],
   "source": [
    "print(\"Hello, World!\")"
   ]
  },
  {
   "cell_type": "code",
   "execution_count": null,
   "id": "4cc47fc8-7531-4a6c-b27a-0205df694608",
   "metadata": {},
   "outputs": [],
   "source": []
  }
 ],
 "metadata": {
  "kernelspec": {
   "display_name": "Python 3 (ipykernel)",
   "language": "python",
   "name": "python3"
  },
  "language_info": {
   "codemirror_mode": {
    "name": "ipython",
    "version": 3
   },
   "file_extension": ".py",
   "mimetype": "text/x-python",
   "name": "python",
   "nbconvert_exporter": "python",
   "pygments_lexer": "ipython3",
   "version": "3.9.18"
  }
 },
 "nbformat": 4,
 "nbformat_minor": 5
}
