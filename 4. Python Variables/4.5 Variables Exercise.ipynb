{
 "cells": [
  {
   "cell_type": "code",
   "execution_count": null,
   "id": "e4ab2728-f602-40e5-913e-d2c56cbbd291",
   "metadata": {},
   "outputs": [],
   "source": []
  }
 ],
 "metadata": {
  "kernelspec": {
   "display_name": "",
   "name": ""
  },
  "language_info": {
   "name": ""
  }
 },
 "nbformat": 4,
 "nbformat_minor": 5
}
